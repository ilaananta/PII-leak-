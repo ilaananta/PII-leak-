{
  "nbformat": 4,
  "nbformat_minor": 0,
  "metadata": {
    "colab": {
      "name": "PSI.ipynb",
      "provenance": [],
      "collapsed_sections": [],
      "authorship_tag": "ABX9TyP6XRqmJ89ObFv4toIUhHsU"
    },
    "kernelspec": {
      "name": "python3",
      "display_name": "Python 3"
    },
    "language_info": {
      "name": "python"
    }
  },
  "cells": [
    {
      "cell_type": "code",
      "execution_count": null,
      "metadata": {
        "colab": {
          "base_uri": "https://localhost:8080/"
        },
        "id": "ow6HjDljN3yl",
        "outputId": "28e2c90b-dbd1-4328-fb13-f51748c5da94"
      },
      "outputs": [
        {
          "output_type": "stream",
          "name": "stdout",
          "text": [
            "[ 500.          560.97560976  600.          615.38461538  666.66666667\n",
            "  750.          800.          840.          857.14285714  875.\n",
            "  888.88888889  904.76190476  928.57142857  935.20140105  942.85714286\n",
            "  944.44444444  951.2195122   952.38095238  956.52173913  958.33333333\n",
            "  965.51724138  966.66666667  967.74193548  968.25396825  970.58823529\n",
            "  973.68421053  978.26086957  979.59183673  980.76923077  987.65432099\n",
            "  989.24731183  991.59663866  992.70072993  993.50649351  996.36363636\n",
            " 1000.        ]\n",
            "[ 600.          666.66666667  840.          888.88888889  928.57142857\n",
            "  935.20140105  944.44444444  956.52173913  958.33333333  965.51724138\n",
            "  973.68421053  978.26086957  979.59183673  987.65432099  991.59663866\n",
            "  992.70072993  993.50649351  996.36363636 1000.        ]\n"
          ]
        }
      ],
      "source": [
        "import numpy as np\n",
        "f=open(\"/content/training_percentage.txt\",'r')\n",   
        "lines=f.readlines()\n",
        "list=[]\n",
        "list1=[]\n",
        "for line in lines:\n",
        "  if \"Probability of class\" in line:\n",
        "    temp=line.split(\" \")\n",
        "    t=temp[5]\n",
        "    k=t.split(\"\\n\")\n",
        "    p=k[0]\n",
        "    prob=float(p)\n",
        "    prob=prob*1000\n",
        "    list1.append(prob)\n",
        "    list.append(prob)\n",
        "\n",
        "print(np.unique(list1))    \n",
        "\n",
        "f1=open(\"/content/testing_percentage.txt\",'r')\n",  
        "lines1=f1.readlines()\n",
        "list2=[]\n",
        "for line in lines1:\n",
        "  if \"Probability of class\" in line:\n",
        "    temp=line.split(\" \")\n",
        "    t=temp[5]\n",
        "    k=t.split(\"\\n\")\n",
        "    p=k[0]\n",
        "    prob=float(p)\n",
        "    prob=prob*1000\n",
        "    list2.append(prob)\n",
        "    list.append(prob)\n",
        "\n",
        "print(np.unique(list2))    \n"
      ]
    },
    {
      "cell_type": "code",
      "source": [
        "print(np.unique(list))"
      ],
      "metadata": {
        "colab": {
          "base_uri": "https://localhost:8080/"
        },
        "id": "D0LOtIpGVQIF",
        "outputId": "98a09f40-59bd-4074-d09a-4acdf0fa99c4"
      },
      "execution_count": null,
      "outputs": [
        {
          "output_type": "stream",
          "name": "stdout",
          "text": [
            "[ 500.          560.97560976  600.          615.38461538  666.66666667\n",
            "  750.          800.          840.          857.14285714  875.\n",
            "  888.88888889  904.76190476  928.57142857  935.20140105  942.85714286\n",
            "  944.44444444  951.2195122   952.38095238  956.52173913  958.33333333\n",
            "  965.51724138  966.66666667  967.74193548  968.25396825  970.58823529\n",
            "  973.68421053  978.26086957  979.59183673  980.76923077  987.65432099\n",
            "  989.24731183  991.59663866  992.70072993  993.50649351  996.36363636\n",
            " 1000.        ]\n"
          ]
        }
      ]
    },
    {
      "cell_type": "code",
      "source": [
        "from matplotlib import pyplot as plt\n",
        "import math\n",
        "#list=np.unique(list)\n",
        "bins = np.linspace(math.ceil(min(list1)), \n",
        "                   math.floor(max(list1))\n",
        "                   )\n",
        "plt.xlim([min(list1)-5, max(list1)+5])\n",
        "\n",
        "plt.hist(list1, bins=bins, alpha=0.5)\n",
        "plt.title('Histogram for training data(ReCon) Probability ')\n",
        "plt.xlabel('variable X ')\n",
        "plt.ylabel('count')\n",
        "\n",
        "plt.show()"
      ],
      "metadata": {
        "colab": {
          "base_uri": "https://localhost:8080/",
          "height": 295
        },
        "id": "ah-l1JGYS2BF",
        "outputId": "3dabf939-2cc7-4331-d615-21683af99711"
      },
      "execution_count": null,
      "outputs": [
        {
          "output_type": "display_data",
          "data": {
            "text/plain": [
              "<Figure size 432x288 with 1 Axes>"
            ],
            "image/png": "[encoded data removed]"
          },
          "metadata": {
            "needs_background": "light"
          }
        }
      ]
    },
    {
      "cell_type": "code",
      "source": [
        "from matplotlib import pyplot as plt\n",
        "import math\n",
        "#list=np.unique(list)\n",
        "bins = np.linspace(math.ceil(min(list2)), \n",
        "                   math.floor(max(list2))\n",
        "                   )\n",
        "plt.xlim([min(list2)-5, max(list2)+5])\n",
        "\n",
        "plt.hist(list2, bins=bins, alpha=0.5)\n",
        "plt.title('Histogram for testing data(Antshield data) Probabilities')\n",
        "plt.xlabel('variable X ')\n",
        "plt.ylabel('count')\n",
        "\n",
        "plt.show()"
      ],
      "metadata": {
        "colab": {
          "base_uri": "https://localhost:8080/",
          "height": 295
        },
        "outputId": "c4d01d6f-7c88-44f8-8414-c3a6fbb375c2",
        "id": "FRmqFRLUO8lI"
      },
      "execution_count": null,
      "outputs": [
        {
          "output_type": "display_data",
          "data": {
            "text/plain": [
              "<Figure size 432x288 with 1 Axes>"
            ],
            "image/png": "[encoded data removed]"
          },
          "metadata": {
            "needs_background": "light"
          }
        }
      ]
    },
    {
      "cell_type": "code",
      "source": [
        "def percentage(start,end,file):\n",
        "  x=0\n",
        "  total=0\n",
        "  f=open(file,'r')\n",
        "  lines=f.readlines()\n",
        "  for line in lines:\n",
        "   d='\"domain\"'+\":\"\n",
        "   if d in line:\n",
        "    total=total+1\n",
        "  for line in lines:\n",
        "   if \"Probability of class\" in line:\n",
        "    temp=line.split(\" \")\n",
        "    t=temp[5]\n",
        "    k=t.split(\"\\n\")\n",
        "    p=k[0]\n",
        "    prob=float(p)\n",
        "    prob=prob*1000\n",
        "    if(prob>=start and prob<=end):\n",
        "      x=x+1\n",
        "  print(x,total)\n",
        "  percent=(x/total)*100    \n",
        "  return percent"
      ],
      "metadata": {
        "id": "XRSrC2mZUQvv"
      },
      "execution_count": null,
      "outputs": []
    },
    {
      "cell_type": "code",
      "source": [
        "def values(a,b,row):\n",
        "\n",
        "  if(a==0 and b==0):return 0 \n",
        "  c=a-b\n",
        "  if(b==0.0):\n",
        "     d=np.log(a/0.00001)\n",
        "  elif(a==0.0):\n",
        "     d=np.log(0.00001/b)\n",
        "  else:   \n",
        "   d=np.log(a/b)\n",
        "  e=(c*d)/100\n",
        "  row.append(c)\n",
        "  row.append(d)\n",
        "  row.append(e)\n",
        "  print(c,d,e)\n",
        "  return e"
      ],
      "metadata": {
        "id": "vD1eEMH5VkHE",
        "colab": {
          "base_uri": "https://localhost:8080/",
          "height": 133
        },
        "outputId": "2e163c18-ce25-4864-dde5-3ce0107fc8d2"
      },
      "execution_count": null,
      "outputs": [
        {
          "output_type": "error",
          "ename": "SyntaxError",
          "evalue": "ignored",
          "traceback": [
            "\u001b[0;36m  File \u001b[0;32m\"<ipython-input-2-32eff96badcb>\"\u001b[0;36m, line \u001b[0;32m1\u001b[0m\n\u001b[0;31m    a=def values(a,b,row):\u001b[0m\n\u001b[0m        ^\u001b[0m\n\u001b[0;31mSyntaxError\u001b[0m\u001b[0;31m:\u001b[0m invalid syntax\n"
          ]
        }
      ]
    },
    {
      "cell_type": "markdown",
      "source": [
        "PSI for recon-Training and Our data-testing\n"
      ],
      "metadata": {
        "id": "NlOpty7pg_kq"
      }
    },
    {
      "cell_type": "code",
      "source": [
        "psi=[]\n",
        "prob1=[]\n",
        "prob2=[]"
      ],
      "metadata": {
        "id": "8tjFa6luepBK"
      },
      "execution_count": null,
      "outputs": []
    },
    {
      "cell_type": "code",
      "source": [
        "column=['Score Range','Scoring%(A)','Training %(B)','A-B','ln(A/B)','PSI']\n",
        "rows=[]"
      ],
      "metadata": {
        "id": "qHYS9EZvM2q0"
      },
      "execution_count": null,
      "outputs": []
    },
    {
      "cell_type": "code",
      "source": [
        "p1=percentage(500,561,\"/content/training_percentage.txt\")\n",
        "\n",
        "p2=percentage(500,561,\"/content/testing_manual_percentage2.txt\")\n",
        "row=[]\n",
        "row.append('500-561')\n",
        "prob1.append(p1)\n",
        "prob2.append(p2)\n",
        "row.append(p2)\n",
        "row.append(p1)\n",
        "print(p2,p1)\n",
        "t=values(p2,p1,row)\n",
        "psi.append(t)\n",
        "print(row)\n",
        "rows.append(row)"
      ],
      "metadata": {
        "colab": {
          "base_uri": "https://localhost:8080/"
        },
        "id": "ZgJfBwhrWKKU",
        "outputId": "f2f247f6-dc39-4943-b594-93a7c342c0aa"
      },
      "execution_count": null,
      "outputs": [
        {
          "output_type": "stream",
          "name": "stdout",
          "text": [
            "51 70700\n",
            "0 5531\n",
            "0.0 0.07213578500707213\n",
            "-0.07213578500707213 -8.88372043179798 0.0064083414713111304\n",
            "['500-561', 0.0, 0.07213578500707213, -0.07213578500707213, -8.88372043179798, 0.0064083414713111304]\n"
          ]
        }
      ]
    },
    {
      "cell_type": "code",
      "source": [
        "p1=percentage(562,600,\"/content/training_percentage.txt\")\n",
        "p2=percentage(562,600,\"/content/testing_manual_percentage2.txt\")\n",
        "row=[]\n",
        "row.append('562-600')\n",
        "prob1.append(p1)\n",
        "prob2.append(p2)\n",
        "row.append(p2)\n",
        "row.append(p1)\n",
        "print(p2,p1)\n",
        "t=values(p2,p1,row)\n",
        "psi.append(t)\n",
        "print(row)\n",
        "rows.append(row)"
      ],
      "metadata": {
        "colab": {
          "base_uri": "https://localhost:8080/"
        },
        "id": "TkztDop_eymM",
        "outputId": "3024adb2-c2c5-4f33-bf66-726eb759a62f"
      },
      "execution_count": null,
      "outputs": [
        {
          "output_type": "stream",
          "name": "stdout",
          "text": [
            "38 70700\n",
            "24 5531\n",
            "0.43391791719399747 0.053748231966053744\n",
            "0.3801696852279437 2.088544612511546 0.007940013479230321\n",
            "['562-600', 0.43391791719399747, 0.053748231966053744, 0.3801696852279437, 2.088544612511546, 0.007940013479230321]\n"
          ]
        }
      ]
    },
    {
      "cell_type": "code",
      "source": [
        "p1=percentage(601,616,\"/content/training_percentage.txt\")\n",
        "p2=percentage(601,616,\"/content/testing_manual_percentage2.txt\")\n",
        "row=[]\n",
        "row.append('601-616')\n",
        "prob1.append(p1)\n",
        "prob2.append(p2)\n",
        "row.append(p2)\n",
        "row.append(p1)\n",
        "print(p2,p1)\n",
        "t=values(p2,p1,row)\n",
        "psi.append(t)\n",
        "print(row)\n",
        "rows.append(row)"
      ],
      "metadata": {
        "colab": {
          "base_uri": "https://localhost:8080/"
        },
        "id": "S8uVaGqIkphZ",
        "outputId": "07e98347-ca37-48f2-ca9d-29769374777f"
      },
      "execution_count": null,
      "outputs": [
        {
          "output_type": "stream",
          "name": "stdout",
          "text": [
            "18 70700\n",
            "0 5531\n",
            "0.0 0.025459688826025458\n",
            "-0.025459688826025458 -7.84226655696982 0.0019966166623119766\n",
            "['601-616', 0.0, 0.025459688826025458, -0.025459688826025458, -7.84226655696982, 0.0019966166623119766]\n"
          ]
        }
      ]
    },
    {
      "cell_type": "code",
      "source": [
        "p1=percentage(617,667,\"/content/training_percentage.txt\")\n",
        "p2=percentage(617,667,\"/content/testing_manual_percentage2.txt\")\n",
        "row=[]\n",
        "row.append('617-667')\n",
        "prob1.append(p1)\n",
        "prob2.append(p2)\n",
        "row.append(p2)\n",
        "row.append(p1)\n",
        "print(p2,p1)\n",
        "t=values(p2,p1,row)\n",
        "psi.append(t)\n",
        "print(row)\n",
        "rows.append(row)"
      ],
      "metadata": {
        "colab": {
          "base_uri": "https://localhost:8080/"
        },
        "id": "hNcx8oJ0mXLc",
        "outputId": "6a129fd2-0307-47cf-ce0d-4d69ae4871ac"
      },
      "execution_count": null,
      "outputs": [
        {
          "output_type": "stream",
          "name": "stdout",
          "text": [
            "144 70700\n",
            "104 5531\n",
            "1.8803109745073223 0.20367751060820366\n",
            "1.6766334638991187 2.2226545414553582 0.037265769828914046\n",
            "['617-667', 1.8803109745073223, 0.20367751060820366, 1.6766334638991187, 2.2226545414553582, 0.037265769828914046]\n"
          ]
        }
      ]
    },
    {
      "cell_type": "code",
      "source": [
        "p1=percentage(668,800,\"/content/training_percentage.txt\")\n",
        "p2=percentage(668,800,\"/content/testing_manual_percentage2.txt\")\n",
        "row=[]\n",
        "row.append('668-800')\n",
        "prob1.append(p1)\n",
        "prob2.append(p2)\n",
        "row.append(p2)\n",
        "row.append(p1)\n",
        "print(p2,p1)\n",
        "t=values(p2,p1,row)\n",
        "psi.append(t)\n",
        "print(row)\n",
        "rows.append(row)"
      ],
      "metadata": {
        "colab": {
          "base_uri": "https://localhost:8080/"
        },
        "id": "yCmeY1Eums2w",
        "outputId": "4bacd1b9-484d-420e-916a-968f50ad1453"
      },
      "execution_count": null,
      "outputs": [
        {
          "output_type": "stream",
          "name": "stdout",
          "text": [
            "60 70700\n",
            "0 5531\n",
            "0.0 0.08486562942008487\n",
            "-0.08486562942008487 -9.046239361295756 0.007677147972811108\n",
            "['668-800', 0.0, 0.08486562942008487, -0.08486562942008487, -9.046239361295756, 0.007677147972811108]\n"
          ]
        }
      ]
    },
    {
      "cell_type": "code",
      "source": [
        "p1=percentage(801,840,\"/content/training_percentage.txt\")\n",
        "p2=percentage(801,840,\"/content/testing_manual_percentage2.txt\")\n",
        "row=[]\n",
        "row.append('801-840')\n",
        "prob1.append(p1)\n",
        "prob2.append(p2)\n",
        "row.append(p2)\n",
        "row.append(p1)\n",
        "print(p2,p1)\n",
        "t=values(p2,p1,row)\n",
        "psi.append(t)\n",
        "print(row)\n",
        "rows.append(row)"
      ],
      "metadata": {
        "colab": {
          "base_uri": "https://localhost:8080/"
        },
        "id": "hlF953Vmnp6-",
        "outputId": "40a2ca68-7e3b-4286-ba71-ac70cabc4549"
      },
      "execution_count": null,
      "outputs": [
        {
          "output_type": "stream",
          "name": "stdout",
          "text": [
            "298 70700\n",
            "17 5531\n",
            "0.30735852467908154 0.4214992927864215\n",
            "-0.11414076810733997 -0.31580320055920236 0.0003604601988258369\n",
            "['801-840', 0.30735852467908154, 0.4214992927864215, -0.11414076810733997, -0.31580320055920236, 0.0003604601988258369]\n"
          ]
        }
      ]
    },
    {
      "cell_type": "code",
      "source": [
        "p1=percentage(841,875,\"/content/training_percentage.txt\")\n",
        "p2=percentage(841,875,\"/content/testing_manual_percentage2.txt\")\n",
        "row=[]\n",
        "row.append('841-875')\n",
        "prob1.append(p1)\n",
        "prob2.append(p2)\n",
        "row.append(p2)\n",
        "row.append(p1)\n",
        "print(p2,p1)\n",
        "t=values(p2,p1,row)\n",
        "psi.append(t)\n",
        "print(row)\n",
        "rows.append(row)"
      ],
      "metadata": {
        "colab": {
          "base_uri": "https://localhost:8080/"
        },
        "id": "V49OCNxVnyrB",
        "outputId": "47a927b2-29bc-4c17-9153-55cc35b2bedd"
      },
      "execution_count": null,
      "outputs": [
        {
          "output_type": "stream",
          "name": "stdout",
          "text": [
            "34 70700\n",
            "0 5531\n",
            "0.0 0.04809052333804809\n",
            "-0.04809052333804809 -8.478255323689817 0.004077237355098356\n",
            "['841-875', 0.0, 0.04809052333804809, -0.04809052333804809, -8.478255323689817, 0.004077237355098356]\n"
          ]
        }
      ]
    },
    {
      "cell_type": "code",
      "source": [
        "p1=percentage(876,889,\"/content/training_percentage.txt\")\n",
        "p2=percentage(876,889,\"/content/testing_manual_percentage2.txt\")\n",
        "row=[]\n",
        "row.append('876-889')\n",
        "prob1.append(p1)\n",
        "prob2.append(p2)\n",
        "row.append(p2)\n",
        "row.append(p1)\n",
        "print(p2,p1)\n",
        "t=values(p2,p1,row)\n",
        "psi.append(t)\n",
        "print(row)\n",
        "rows.append(row)"
      ],
      "metadata": {
        "colab": {
          "base_uri": "https://localhost:8080/"
        },
        "id": "CYTL8BCsn4Vl",
        "outputId": "b96e7dc8-8dc7-4dbf-ee3f-462363088ba8"
      },
      "execution_count": null,
      "outputs": [
        {
          "output_type": "stream",
          "name": "stdout",
          "text": [
            "811 70700\n",
            "4 5531\n",
            "0.07231965286566625 1.147100424328147\n",
            "-1.0747807714624809 -2.7638967511055363 0.02970583082395853\n",
            "['876-889', 0.07231965286566625, 1.147100424328147, -1.0747807714624809, -2.7638967511055363, 0.02970583082395853]\n"
          ]
        }
      ]
    },
    {
      "cell_type": "code",
      "source": [
        "p1=percentage(890,929,\"/content/training_percentage.txt\")\n",
        "p2=percentage(890,929,\"/content/testing_manual_percentage2.txt\")\n",
        "row=[]\n",
        "row.append('890-929')\n",
        "prob1.append(p1)\n",
        "prob2.append(p2)\n",
        "row.append(p2)\n",
        "row.append(p1)\n",
        "print(p2,p1)\n",
        "t=values(p2,p1,row)\n",
        "psi.append(t)\n",
        "print(row)\n",
        "rows.append(row)"
      ],
      "metadata": {
        "colab": {
          "base_uri": "https://localhost:8080/"
        },
        "id": "FUrGPZDYoBP0",
        "outputId": "1f8facbb-e867-42fe-c9c4-63fdc25b7f8a"
      },
      "execution_count": null,
      "outputs": [
        {
          "output_type": "stream",
          "name": "stdout",
          "text": [
            "220 70700\n",
            "1 5531\n",
            "0.01807991321641656 0.31117397454031115\n",
            "-0.2930940613238946 -2.8455506044623755 0.008340139833645408\n",
            "['890-929', 0.01807991321641656, 0.31117397454031115, -0.2930940613238946, -2.8455506044623755, 0.008340139833645408]\n"
          ]
        }
      ]
    },
    {
      "cell_type": "code",
      "source": [
        "p1=percentage(930,1000,\"/content/training_percentage.txt\")\n",
        "p2=percentage(930,1000,\"/content/testing_manual_percentage2.txt\")\n",
        "row=[]\n",
        "row.append('>929')\n",
        "prob1.append(p1)\n",
        "prob2.append(p2)\n",
        "row.append(p2)\n",
        "row.append(p1)\n",
        "print(p2,p1)\n",
        "t=values(p2,p1,row)\n",
        "psi.append(t)\n",
        "print(row)\n",
        "rows.append(row)"
      ],
      "metadata": {
        "colab": {
          "base_uri": "https://localhost:8080/"
        },
        "id": "fii3c1hcm-0q",
        "outputId": "0a7971ac-616f-4b02-a02b-899968bb440a"
      },
      "execution_count": null,
      "outputs": [
        {
          "output_type": "stream",
          "name": "stdout",
          "text": [
            "69026 70700\n",
            "5381 5531\n",
            "97.28801301753751 97.63224893917963\n",
            "-0.3442359216421238 -0.0035320728185339544 1.2158663419951296e-05\n",
            "['>929', 97.28801301753751, 97.63224893917963, -0.3442359216421238, -0.0035320728185339544, 1.2158663419951296e-05]\n"
          ]
        }
      ]
    },
    {
      "cell_type": "code",
      "source": [
        "print(sum(prob1))\n",
        "print(sum(prob2))\n",
        "print(sum(psi))"
      ],
      "metadata": {
        "colab": {
          "base_uri": "https://localhost:8080/"
        },
        "outputId": "f0b27822-08d7-4527-be4e-f90918029552",
        "id": "4x_FOj_HyISG"
      },
      "execution_count": null,
      "outputs": [
        {
          "output_type": "stream",
          "name": "stdout",
          "text": [
            "100.0\n",
            "99.99999999999999\n",
            "0.10378371628952666\n"
          ]
        }
      ]
    },
    {
      "cell_type": "code",
      "source": [
        "import pandas as pd\n",
        "df = pd.DataFrame(data=rows, columns=column)\n",
        "df.to_csv(\"Our2.csv\")\n",
        "df"
      ],
      "metadata": {
        "colab": {
          "base_uri": "https://localhost:8080/",
          "height": 363
        },
        "id": "68QBcn-0OK2B",
        "outputId": "6fe1471a-e4c4-4fc0-e042-e3648adddcd6"
      },
      "execution_count": null,
      "outputs": [
        {
          "output_type": "execute_result",
          "data": {
            "text/plain": [
              "  Score Range  Scoring%(A)  Training %(B)       A-B   ln(A/B)       PSI\n",
              "0     500-561     0.000000       0.072136 -0.072136 -8.883720  0.006408\n",
              "1     562-600     0.433918       0.053748  0.380170  2.088545  0.007940\n",
              "2     601-616     0.000000       0.025460 -0.025460 -7.842267  0.001997\n",
              "3     617-667     1.880311       0.203678  1.676633  2.222655  0.037266\n",
              "4     668-800     0.000000       0.084866 -0.084866 -9.046239  0.007677\n",
              "5     801-840     0.307359       0.421499 -0.114141 -0.315803  0.000360\n",
              "6     841-875     0.000000       0.048091 -0.048091 -8.478255  0.004077\n",
              "7     876-889     0.072320       1.147100 -1.074781 -2.763897  0.029706\n",
              "8     890-929     0.018080       0.311174 -0.293094 -2.845551  0.008340\n",
              "9        >929    97.288013      97.632249 -0.344236 -0.003532  0.000012"
            ],
            "text/html": [
              "\n",
              "  <div id=\"df-c51d6cdd-bd15-41a7-a462-3e522c173b16\">\n",
              "    <div class=\"colab-df-container\">\n",
              "      <div>\n",
              "<style scoped>\n",
              "    .dataframe tbody tr th:only-of-type {\n",
              "        vertical-align: middle;\n",
              "    }\n",
              "\n",
              "    .dataframe tbody tr th {\n",
              "        vertical-align: top;\n",
              "    }\n",
              "\n",
              "    .dataframe thead th {\n",
              "        text-align: right;\n",
              "    }\n",
              "</style>\n",
              "<table border=\"1\" class=\"dataframe\">\n",
              "  <thead>\n",
              "    <tr style=\"text-align: right;\">\n",
              "      <th></th>\n",
              "      <th>Score Range</th>\n",
              "      <th>Scoring%(A)</th>\n",
              "      <th>Training %(B)</th>\n",
              "      <th>A-B</th>\n",
              "      <th>ln(A/B)</th>\n",
              "      <th>PSI</th>\n",
              "    </tr>\n",
              "  </thead>\n",
              "  <tbody>\n",
              "    <tr>\n",
              "      <th>0</th>\n",
              "      <td>500-561</td>\n",
              "      <td>0.000000</td>\n",
              "      <td>0.072136</td>\n",
              "      <td>-0.072136</td>\n",
              "      <td>-8.883720</td>\n",
              "      <td>0.006408</td>\n",
              "    </tr>\n",
              "    <tr>\n",
              "      <th>1</th>\n",
              "      <td>562-600</td>\n",
              "      <td>0.433918</td>\n",
              "      <td>0.053748</td>\n",
              "      <td>0.380170</td>\n",
              "      <td>2.088545</td>\n",
              "      <td>0.007940</td>\n",
              "    </tr>\n",
              "    <tr>\n",
              "      <th>2</th>\n",
              "      <td>601-616</td>\n",
              "      <td>0.000000</td>\n",
              "      <td>0.025460</td>\n",
              "      <td>-0.025460</td>\n",
              "      <td>-7.842267</td>\n",
              "      <td>0.001997</td>\n",
              "    </tr>\n",
              "    <tr>\n",
              "      <th>3</th>\n",
              "      <td>617-667</td>\n",
              "      <td>1.880311</td>\n",
              "      <td>0.203678</td>\n",
              "      <td>1.676633</td>\n",
              "      <td>2.222655</td>\n",
              "      <td>0.037266</td>\n",
              "    </tr>\n",
              "    <tr>\n",
              "      <th>4</th>\n",
              "      <td>668-800</td>\n",
              "      <td>0.000000</td>\n",
              "      <td>0.084866</td>\n",
              "      <td>-0.084866</td>\n",
              "      <td>-9.046239</td>\n",
              "      <td>0.007677</td>\n",
              "    </tr>\n",
              "    <tr>\n",
              "      <th>5</th>\n",
              "      <td>801-840</td>\n",
              "      <td>0.307359</td>\n",
              "      <td>0.421499</td>\n",
              "      <td>-0.114141</td>\n",
              "      <td>-0.315803</td>\n",
              "      <td>0.000360</td>\n",
              "    </tr>\n",
              "    <tr>\n",
              "      <th>6</th>\n",
              "      <td>841-875</td>\n",
              "      <td>0.000000</td>\n",
              "      <td>0.048091</td>\n",
              "      <td>-0.048091</td>\n",
              "      <td>-8.478255</td>\n",
              "      <td>0.004077</td>\n",
              "    </tr>\n",
              "    <tr>\n",
              "      <th>7</th>\n",
              "      <td>876-889</td>\n",
              "      <td>0.072320</td>\n",
              "      <td>1.147100</td>\n",
              "      <td>-1.074781</td>\n",
              "      <td>-2.763897</td>\n",
              "      <td>0.029706</td>\n",
              "    </tr>\n",
              "    <tr>\n",
              "      <th>8</th>\n",
              "      <td>890-929</td>\n",
              "      <td>0.018080</td>\n",
              "      <td>0.311174</td>\n",
              "      <td>-0.293094</td>\n",
              "      <td>-2.845551</td>\n",
              "      <td>0.008340</td>\n",
              "    </tr>\n",
              "    <tr>\n",
              "      <th>9</th>\n",
              "      <td>&gt;929</td>\n",
              "      <td>97.288013</td>\n",
              "      <td>97.632249</td>\n",
              "      <td>-0.344236</td>\n",
              "      <td>-0.003532</td>\n",
              "      <td>0.000012</td>\n",
              "    </tr>\n",
              "  </tbody>\n",
              "</table>\n",
              "</div>\n",
              "      <button class=\"colab-df-convert\" onclick=\"convertToInteractive('df-c51d6cdd-bd15-41a7-a462-3e522c173b16')\"\n",
              "              title=\"Convert this dataframe to an interactive table.\"\n",
              "              style=\"display:none;\">\n",
              "        \n",
              "  <svg xmlns=\"http://www.w3.org/2000/svg\" height=\"24px\"viewBox=\"0 0 24 24\"\n",
              "       width=\"24px\">\n",
              "    <path d=\"M0 0h24v24H0V0z\" fill=\"none\"/>\n",
              "    <path d=\"M18.56 5.44l.94 2.06.94-2.06 2.06-.94-2.06-.94-.94-2.06-.94 2.06-2.06.94zm-11 1L8.5 8.5l.94-2.06 2.06-.94-2.06-.94L8.5 2.5l-.94 2.06-2.06.94zm10 10l.94 2.06.94-2.06 2.06-.94-2.06-.94-.94-2.06-.94 2.06-2.06.94z\"/><path d=\"M17.41 7.96l-1.37-1.37c-.4-.4-.92-.59-1.43-.59-.52 0-1.04.2-1.43.59L10.3 9.45l-7.72 7.72c-.78.78-.78 2.05 0 2.83L4 21.41c.39.39.9.59 1.41.59.51 0 1.02-.2 1.41-.59l7.78-7.78 2.81-2.81c.8-.78.8-2.07 0-2.86zM5.41 20L4 18.59l7.72-7.72 1.47 1.35L5.41 20z\"/>\n",
              "  </svg>\n",
              "      </button>\n",
              "      \n",
              "  <style>\n",
              "    .colab-df-container {\n",
              "      display:flex;\n",
              "      flex-wrap:wrap;\n",
              "      gap: 12px;\n",
              "    }\n",
              "\n",
              "    .colab-df-convert {\n",
              "      background-color: #E8F0FE;\n",
              "      border: none;\n",
              "      border-radius: 50%;\n",
              "      cursor: pointer;\n",
              "      display: none;\n",
              "      fill: #1967D2;\n",
              "      height: 32px;\n",
              "      padding: 0 0 0 0;\n",
              "      width: 32px;\n",
              "    }\n",
              "\n",
              "    .colab-df-convert:hover {\n",
              "      background-color: #E2EBFA;\n",
              "      box-shadow: 0px 1px 2px rgba(60, 64, 67, 0.3), 0px 1px 3px 1px rgba(60, 64, 67, 0.15);\n",
              "      fill: #174EA6;\n",
              "    }\n",
              "\n",
              "    [theme=dark] .colab-df-convert {\n",
              "      background-color: #3B4455;\n",
              "      fill: #D2E3FC;\n",
              "    }\n",
              "\n",
              "    [theme=dark] .colab-df-convert:hover {\n",
              "      background-color: #434B5C;\n",
              "      box-shadow: 0px 1px 3px 1px rgba(0, 0, 0, 0.15);\n",
              "      filter: drop-shadow(0px 1px 2px rgba(0, 0, 0, 0.3));\n",
              "      fill: #FFFFFF;\n",
              "    }\n",
              "  </style>\n",
              "\n",
              "      <script>\n",
              "        const buttonEl =\n",
              "          document.querySelector('#df-c51d6cdd-bd15-41a7-a462-3e522c173b16 button.colab-df-convert');\n",
              "        buttonEl.style.display =\n",
              "          google.colab.kernel.accessAllowed ? 'block' : 'none';\n",
              "\n",
              "        async function convertToInteractive(key) {\n",
              "          const element = document.querySelector('#df-c51d6cdd-bd15-41a7-a462-3e522c173b16');\n",
              "          const dataTable =\n",
              "            await google.colab.kernel.invokeFunction('convertToInteractive',\n",
              "                                                     [key], {});\n",
              "          if (!dataTable) return;\n",
              "\n",
              "          const docLinkHtml = 'Like what you see? Visit the ' +\n",
              "            '<a target=\"_blank\" href=https://colab.research.google.com/notebooks/data_table.ipynb>data table notebook</a>'\n",
              "            + ' to learn more about interactive tables.';\n",
              "          element.innerHTML = '';\n",
              "          dataTable['output_type'] = 'display_data';\n",
              "          await google.colab.output.renderOutput(dataTable, element);\n",
              "          const docLink = document.createElement('div');\n",
              "          docLink.innerHTML = docLinkHtml;\n",
              "          element.appendChild(docLink);\n",
              "        }\n",
              "      </script>\n",
              "    </div>\n",
              "  </div>\n",
              "  "
            ]
          },
          "metadata": {},
          "execution_count": 124
        }
      ]
    },
    {
      "cell_type": "markdown",
      "source": [
        "PSI for ReCon training and Antshiled testing "
      ],
      "metadata": {
        "id": "9XLgx7vNhhiO"
      }
    },
    {
      "cell_type": "code",
      "source": [
        "psi=[]\n",
        "prob1=[]\n",
        "prob2=[]"
      ],
      "metadata": {
        "id": "iO3GbeLthu7-"
      },
      "execution_count": null,
      "outputs": []
    },
    {
      "cell_type": "code",
      "source": [
        "column=['Score Range','Scoring%(A)','Training %(B)','A-B','ln(A/B)','PSI']\n",
        "rows=[]"
      ],
      "metadata": {
        "id": "CSCqEE3d_mGo"
      },
      "execution_count": null,
      "outputs": []
    },
    {
      "cell_type": "code",
      "source": [
        "p1=percentage(500,561,\"/content/training_percentage.txt\")\n",
        "p2=percentage(500,561,\"/content/testing_percentage.txt\")\n",
        "row=[]\n",
        "row.append('500-561')\n",
        "prob1.append(p1)\n",
        "prob2.append(p2)\n",
        "row.append(p2)\n",
        "row.append(p1)\n",
        "print(p2,p1)\n",
        "t=values(p2,p1,row)\n",
        "psi.append(t)\n",
        "print(row)\n",
        "rows.append(row)"
      ],
      "metadata": {
        "colab": {
          "base_uri": "https://localhost:8080/"
        },
        "id": "VPfeQ4OLS1bm",
        "outputId": "c34b546b-0310-43d2-9ff3-68e19ea31500"
      },
      "execution_count": null,
      "outputs": [
        {
          "output_type": "stream",
          "name": "stdout",
          "text": [
            "51 70700\n",
            "8 91502\n",
            "0.008742978295556382 0.07213578500707213\n",
            "-0.06339280671151575 -2.1102993481080548 0.0013377779867805159\n",
            "['500-561', 0.008742978295556382, 0.07213578500707213, -0.06339280671151575, -2.1102993481080548, 0.0013377779867805159]\n"
          ]
        }
      ]
    },
    {
      "cell_type": "code",
      "source": [
        "p1=percentage(562,600,\"/content/training_percentage.txt\")\n",
        "p2=percentage(562,600,\"/content/testing_percentage.txt\")\n",
        "row=[]\n",
        "row.append('562-600')\n",
        "prob1.append(p1)\n",
        "prob2.append(p2)\n",
        "row.append(p2)\n",
        "row.append(p1)\n",
        "print(p2,p1)\n",
        "t=values(p2,p1,row)\n",
        "psi.append(t)\n",
        "print(row)\n",
        "rows.append(row)"
      ],
      "metadata": {
        "colab": {
          "base_uri": "https://localhost:8080/"
        },
        "id": "lPumHhudTrIC",
        "outputId": "cf1fccc9-b27a-486a-a35b-9d8a680b547d"
      },
      "execution_count": null,
      "outputs": [
        {
          "output_type": "stream",
          "name": "stdout",
          "text": [
            "38 70700\n",
            "432 91502\n",
            "0.4721208279600446 0.053748231966053744\n",
            "0.4183725959939909 2.17292417145416 0.009090919265093686\n",
            "['562-600', 0.4721208279600446, 0.053748231966053744, 0.4183725959939909, 2.17292417145416, 0.009090919265093686]\n"
          ]
        }
      ]
    },
    {
      "cell_type": "code",
      "source": [
        "p1=percentage(601,616,\"/content/training_percentage.txt\")\n",
        "p2=percentage(601,616,\"/content/testing_percentage.txt\")\n",
        "row=[]\n",
        "row.append('601-616')\n",
        "prob1.append(p1)\n",
        "prob2.append(p2)\n",
        "row.append(p2)\n",
        "row.append(p1)\n",
        "print(p2,p1)\n",
        "t=values(p2,p1,row)\n",
        "psi.append(t)\n",
        "print(row)\n",
        "rows.append(row)"
      ],
      "metadata": {
        "colab": {
          "base_uri": "https://localhost:8080/"
        },
        "id": "AEy0Oc1TT30V",
        "outputId": "8c2b9eba-dddd-454a-bb2e-977b8a996e0b"
      },
      "execution_count": null,
      "outputs": [
        {
          "output_type": "stream",
          "name": "stdout",
          "text": [
            "18 70700\n",
            "0 91502\n",
            "0.0 0.025459688826025458\n",
            "-0.025459688826025458 -7.84226655696982 0.0019966166623119766\n",
            "['601-616', 0.0, 0.025459688826025458, -0.025459688826025458, -7.84226655696982, 0.0019966166623119766]\n"
          ]
        }
      ]
    },
    {
      "cell_type": "code",
      "source": [
        "p1=percentage(617,840,\"/content/training_percentage.txt\")\n",
        "p2=percentage(617,840,\"/content/testing_percentage.txt\")\n",
        "row=[]\n",
        "row.append('617-840')\n",
        "prob1.append(p1)\n",
        "prob2.append(p2)\n",
        "row.append(p2)\n",
        "row.append(p1)\n",
        "print(p2,p1)\n",
        "t=values(p2,p1,row)\n",
        "psi.append(t)\n",
        "print(row)\n",
        "rows.append(row)"
      ],
      "metadata": {
        "colab": {
          "base_uri": "https://localhost:8080/"
        },
        "id": "hJB2q4c2T-Aw",
        "outputId": "1f716588-d7b6-4535-bd55-710e89427185"
      },
      "execution_count": null,
      "outputs": [
        {
          "output_type": "stream",
          "name": "stdout",
          "text": [
            "502 70700\n",
            "5362 91502\n",
            "5.859981202596664 0.7100424328147101\n",
            "5.149938769781954 2.1105769420406104 0.1086934202042278\n",
            "['617-840', 5.859981202596664, 0.7100424328147101, 5.149938769781954, 2.1105769420406104, 0.1086934202042278]\n"
          ]
        }
      ]
    },
    {
      "cell_type": "code",
      "source": [
        "p1=percentage(841,858,\"/content/training_percentage.txt\")\n",
        "p2=percentage(841,858,\"/content/testing_percentage.txt\")\n",
        "row=[]\n",
        "row.append('841-858')\n",
        "prob1.append(p1)\n",
        "prob2.append(p2)\n",
        "row.append(p2)\n",
        "row.append(p1)\n",
        "print(p2,p1)\n",
        "t=values(p2,p1,row)\n",
        "psi.append(t)\n",
        "print(row)\n",
        "rows.append(row)"
      ],
      "metadata": {
        "colab": {
          "base_uri": "https://localhost:8080/"
        },
        "id": "iQh-LDOoHELs",
        "outputId": "6b512fd9-cd11-4d81-d4f9-6998bf4efa22"
      },
      "execution_count": null,
      "outputs": [
        {
          "output_type": "stream",
          "name": "stdout",
          "text": [
            "12 70700\n",
            "0 91502\n",
            "0.0 0.016973125884016973\n",
            "-0.016973125884016973 -7.436801448861655 0.001262257671659687\n",
            "['841-858', 0.0, 0.016973125884016973, -0.016973125884016973, -7.436801448861655, 0.001262257671659687]\n"
          ]
        }
      ]
    },
    {
      "cell_type": "code",
      "source": [
        "p1=percentage(859,875,\"/content/training_percentage.txt\")\n",
        "p2=percentage(859,875,\"/content/testing_percentage.txt\")\n",
        "row=[]\n",
        "row.append('859-875')\n",
        "prob1.append(p1)\n",
        "prob2.append(p2)\n",
        "row.append(p2)\n",
        "row.append(p1)\n",
        "print(p2,p1)\n",
        "t=values(p2,p1,row)\n",
        "psi.append(t)\n",
        "print(row)\n",
        "rows.append(row)"
      ],
      "metadata": {
        "colab": {
          "base_uri": "https://localhost:8080/"
        },
        "id": "1LOBi7xcHQJl",
        "outputId": "f96a3052-c181-4c96-dc78-079ec69f9f71"
      },
      "execution_count": null,
      "outputs": [
        {
          "output_type": "stream",
          "name": "stdout",
          "text": [
            "22 70700\n",
            "0 91502\n",
            "0.0 0.031117397454031116\n",
            "-0.031117397454031116 -8.04293725243197 0.002502752751817586\n",
            "['859-875', 0.0, 0.031117397454031116, -0.031117397454031116, -8.04293725243197, 0.002502752751817586]\n"
          ]
        }
      ]
    },
    {
      "cell_type": "code",
      "source": [
        "p1=percentage(876,889,\"/content/training_percentage.txt\")\n",
        "p2=percentage(876,889,\"/content/testing_percentage.txt\")\n",
        "row=[]\n",
        "row.append('876-889')\n",
        "prob1.append(p1)\n",
        "prob2.append(p2)\n",
        "row.append(p2)\n",
        "row.append(p1)\n",
        "print(p2,p1)\n",
        "t=values(p2,p1,row)\n",
        "psi.append(t)\n",
        "print(row)\n",
        "rows.append(row)"
      ],
      "metadata": {
        "colab": {
          "base_uri": "https://localhost:8080/"
        },
        "id": "oI-3SaqtHZbG",
        "outputId": "112bbe57-fd68-4972-afa8-c55d556c69c3"
      },
      "execution_count": null,
      "outputs": [
        {
          "output_type": "stream",
          "name": "stdout",
          "text": [
            "811 70700\n",
            "2588 91502\n",
            "2.8283534786124895 1.147100424328147\n",
            "1.6812530542843425 0.9024573444418135 0.015172591667041357\n",
            "['876-889', 2.8283534786124895, 1.147100424328147, 1.6812530542843425, 0.9024573444418135, 0.015172591667041357]\n"
          ]
        }
      ]
    },
    {
      "cell_type": "code",
      "source": [
        "p1=percentage(890,905,\"/content/training_percentage.txt\")\n",
        "p2=percentage(890,905,\"/content/testing_percentage.txt\")\n",
        "row=[]\n",
        "row.append('890-905')\n",
        "prob1.append(p1)\n",
        "prob2.append(p2)\n",
        "row.append(p2)\n",
        "row.append(p1)\n",
        "print(p2,p1)\n",
        "t=values(p2,p1,row)\n",
        "psi.append(t)\n",
        "print(row)\n",
        "rows.append(row)"
      ],
      "metadata": {
        "colab": {
          "base_uri": "https://localhost:8080/"
        },
        "id": "GYzj2X_lHfhr",
        "outputId": "2c73d129-7b86-4a3e-db30-7aedeff74440"
      },
      "execution_count": null,
      "outputs": [
        {
          "output_type": "stream",
          "name": "stdout",
          "text": [
            "172 70700\n",
            "16 91502\n",
            "0.017485956591112763 0.2432814710042433\n",
            "-0.22579551441313053 -2.632821011637237 0.005944791746803286\n",
            "['890-905', 0.017485956591112763, 0.2432814710042433, -0.22579551441313053, -2.632821011637237, 0.005944791746803286]\n"
          ]
        }
      ]
    },
    {
      "cell_type": "code",
      "source": [
        "p1=percentage(906,929,\"/content/training_percentage.txt\")\n",
        "p2=percentage(906,929,\"/content/testing_percentage.txt\")\n",
        "row=[]\n",
        "row.append('906-929')\n",
        "prob1.append(p1)\n",
        "prob2.append(p2)\n",
        "row.append(p2)\n",
        "row.append(p1)\n",
        "print(p2,p1)\n",
        "t=values(p2,p1,row)\n",
        "psi.append(t)\n",
        "print(row)\n",
        "rows.append(row)"
      ],
      "metadata": {
        "colab": {
          "base_uri": "https://localhost:8080/"
        },
        "id": "Q6TRF1FcUMlX",
        "outputId": "2bd82c33-5806-4e25-f73d-265199e663cc"
      },
      "execution_count": null,
      "outputs": [
        {
          "output_type": "stream",
          "name": "stdout",
          "text": [
            "48 70700\n",
            "36 91502\n",
            "0.03934340233000372 0.06789250353606789\n",
            "-0.028549101206064173 -0.5455973295153458 0.0001557631337809195\n",
            "['906-929', 0.03934340233000372, 0.06789250353606789, -0.028549101206064173, -0.5455973295153458, 0.0001557631337809195]\n"
          ]
        }
      ]
    },
    {
      "cell_type": "code",
      "source": [
        "p1=percentage(930,1000,\"/content/training_percentage.txt\")\n",
        "p2=percentage(930,1000,\"/content/testing_percentage.txt\")\n",
        "row=[]\n",
        "row.append('>929')\n",
        "prob1.append(p1)\n",
        "prob2.append(p2)\n",
        "row.append(p2)\n",
        "row.append(p1)\n",
        "print(p2,p1)\n",
        "t=values(p2,p1,row)\n",
        "psi.append(t)\n",
        "print(row)\n",
        "rows.append(row)"
      ],
      "metadata": {
        "colab": {
          "base_uri": "https://localhost:8080/"
        },
        "id": "6dfCPv_9UTEf",
        "outputId": "93f3f9d9-1c68-4615-eea5-2ff5ca4fed90"
      },
      "execution_count": null,
      "outputs": [
        {
          "output_type": "stream",
          "name": "stdout",
          "text": [
            "69026 70700\n",
            "83060 91502\n",
            "90.77397215361412 97.63224893917963\n",
            "-6.858276785565508 -0.07283526407676008 0.004995244007881771\n",
            "['>929', 90.77397215361412, 97.63224893917963, -6.858276785565508, -0.07283526407676008, 0.004995244007881771]\n"
          ]
        }
      ]
    },
    {
      "cell_type": "code",
      "source": [
        "print(sum(prob1))\n",
        "print(sum(prob2))\n",
        "print(sum(psi))"
      ],
      "metadata": {
        "colab": {
          "base_uri": "https://localhost:8080/"
        },
        "id": "d5QaOSm7WAY-",
        "outputId": "fe7ed273-5919-459f-d23c-e83187fad472"
      },
      "execution_count": null,
      "outputs": [
        {
          "output_type": "stream",
          "name": "stdout",
          "text": [
            "100.0\n",
            "100.0\n",
            "0.15115213509739858\n"
          ]
        }
      ]
    },
    {
      "cell_type": "code",
      "source": [
        "import pandas as pd\n",
        "df = pd.DataFrame(data=rows, columns=column)\n",
        "df.to_csv(\"Ant.csv\")\n",
        "df"
      ],
      "metadata": {
        "colab": {
          "base_uri": "https://localhost:8080/",
          "height": 363
        },
        "id": "0i5Mq-oyJx3-",
        "outputId": "cf4f29c6-7914-4ba0-9aaa-702255f6d079"
      },
      "execution_count": null,
      "outputs": [
        {
          "output_type": "execute_result",
          "data": {
            "text/plain": [
              "  Score Range  Scoring%(A)  Training %(B)       A-B   ln(A/B)       PSI\n",
              "0     500-561     0.008743       0.072136 -0.063393 -2.110299  0.001338\n",
              "1     562-600     0.472121       0.053748  0.418373  2.172924  0.009091\n",
              "2     601-616     0.000000       0.025460 -0.025460 -7.842267  0.001997\n",
              "3     617-840     5.859981       0.710042  5.149939  2.110577  0.108693\n",
              "4     841-858     0.000000       0.016973 -0.016973 -7.436801  0.001262\n",
              "5     859-875     0.000000       0.031117 -0.031117 -8.042937  0.002503\n",
              "6     876-889     2.828353       1.147100  1.681253  0.902457  0.015173\n",
              "7     890-905     0.017486       0.243281 -0.225796 -2.632821  0.005945\n",
              "8     906-929     0.039343       0.067893 -0.028549 -0.545597  0.000156\n",
              "9        >929    90.773972      97.632249 -6.858277 -0.072835  0.004995"
            ],
            "text/html": [
              "\n",
              "  <div id=\"df-2137bfbc-0602-42b5-ac57-2236b25c1d77\">\n",
              "    <div class=\"colab-df-container\">\n",
              "      <div>\n",
              "<style scoped>\n",
              "    .dataframe tbody tr th:only-of-type {\n",
              "        vertical-align: middle;\n",
              "    }\n",
              "\n",
              "    .dataframe tbody tr th {\n",
              "        vertical-align: top;\n",
              "    }\n",
              "\n",
              "    .dataframe thead th {\n",
              "        text-align: right;\n",
              "    }\n",
              "</style>\n",
              "<table border=\"1\" class=\"dataframe\">\n",
              "  <thead>\n",
              "    <tr style=\"text-align: right;\">\n",
              "      <th></th>\n",
              "      <th>Score Range</th>\n",
              "      <th>Scoring%(A)</th>\n",
              "      <th>Training %(B)</th>\n",
              "      <th>A-B</th>\n",
              "      <th>ln(A/B)</th>\n",
              "      <th>PSI</th>\n",
              "    </tr>\n",
              "  </thead>\n",
              "  <tbody>\n",
              "    <tr>\n",
              "      <th>0</th>\n",
              "      <td>500-561</td>\n",
              "      <td>0.008743</td>\n",
              "      <td>0.072136</td>\n",
              "      <td>-0.063393</td>\n",
              "      <td>-2.110299</td>\n",
              "      <td>0.001338</td>\n",
              "    </tr>\n",
              "    <tr>\n",
              "      <th>1</th>\n",
              "      <td>562-600</td>\n",
              "      <td>0.472121</td>\n",
              "      <td>0.053748</td>\n",
              "      <td>0.418373</td>\n",
              "      <td>2.172924</td>\n",
              "      <td>0.009091</td>\n",
              "    </tr>\n",
              "    <tr>\n",
              "      <th>2</th>\n",
              "      <td>601-616</td>\n",
              "      <td>0.000000</td>\n",
              "      <td>0.025460</td>\n",
              "      <td>-0.025460</td>\n",
              "      <td>-7.842267</td>\n",
              "      <td>0.001997</td>\n",
              "    </tr>\n",
              "    <tr>\n",
              "      <th>3</th>\n",
              "      <td>617-840</td>\n",
              "      <td>5.859981</td>\n",
              "      <td>0.710042</td>\n",
              "      <td>5.149939</td>\n",
              "      <td>2.110577</td>\n",
              "      <td>0.108693</td>\n",
              "    </tr>\n",
              "    <tr>\n",
              "      <th>4</th>\n",
              "      <td>841-858</td>\n",
              "      <td>0.000000</td>\n",
              "      <td>0.016973</td>\n",
              "      <td>-0.016973</td>\n",
              "      <td>-7.436801</td>\n",
              "      <td>0.001262</td>\n",
              "    </tr>\n",
              "    <tr>\n",
              "      <th>5</th>\n",
              "      <td>859-875</td>\n",
              "      <td>0.000000</td>\n",
              "      <td>0.031117</td>\n",
              "      <td>-0.031117</td>\n",
              "      <td>-8.042937</td>\n",
              "      <td>0.002503</td>\n",
              "    </tr>\n",
              "    <tr>\n",
              "      <th>6</th>\n",
              "      <td>876-889</td>\n",
              "      <td>2.828353</td>\n",
              "      <td>1.147100</td>\n",
              "      <td>1.681253</td>\n",
              "      <td>0.902457</td>\n",
              "      <td>0.015173</td>\n",
              "    </tr>\n",
              "    <tr>\n",
              "      <th>7</th>\n",
              "      <td>890-905</td>\n",
              "      <td>0.017486</td>\n",
              "      <td>0.243281</td>\n",
              "      <td>-0.225796</td>\n",
              "      <td>-2.632821</td>\n",
              "      <td>0.005945</td>\n",
              "    </tr>\n",
              "    <tr>\n",
              "      <th>8</th>\n",
              "      <td>906-929</td>\n",
              "      <td>0.039343</td>\n",
              "      <td>0.067893</td>\n",
              "      <td>-0.028549</td>\n",
              "      <td>-0.545597</td>\n",
              "      <td>0.000156</td>\n",
              "    </tr>\n",
              "    <tr>\n",
              "      <th>9</th>\n",
              "      <td>&gt;929</td>\n",
              "      <td>90.773972</td>\n",
              "      <td>97.632249</td>\n",
              "      <td>-6.858277</td>\n",
              "      <td>-0.072835</td>\n",
              "      <td>0.004995</td>\n",
              "    </tr>\n",
              "  </tbody>\n",
              "</table>\n",
              "</div>\n",
              "      <button class=\"colab-df-convert\" onclick=\"convertToInteractive('df-2137bfbc-0602-42b5-ac57-2236b25c1d77')\"\n",
              "              title=\"Convert this dataframe to an interactive table.\"\n",
              "              style=\"display:none;\">\n",
              "        \n",
              "  <svg xmlns=\"http://www.w3.org/2000/svg\" height=\"24px\"viewBox=\"0 0 24 24\"\n",
              "       width=\"24px\">\n",
              "    <path d=\"M0 0h24v24H0V0z\" fill=\"none\"/>\n",
              "    <path d=\"M18.56 5.44l.94 2.06.94-2.06 2.06-.94-2.06-.94-.94-2.06-.94 2.06-2.06.94zm-11 1L8.5 8.5l.94-2.06 2.06-.94-2.06-.94L8.5 2.5l-.94 2.06-2.06.94zm10 10l.94 2.06.94-2.06 2.06-.94-2.06-.94-.94-2.06-.94 2.06-2.06.94z\"/><path d=\"M17.41 7.96l-1.37-1.37c-.4-.4-.92-.59-1.43-.59-.52 0-1.04.2-1.43.59L10.3 9.45l-7.72 7.72c-.78.78-.78 2.05 0 2.83L4 21.41c.39.39.9.59 1.41.59.51 0 1.02-.2 1.41-.59l7.78-7.78 2.81-2.81c.8-.78.8-2.07 0-2.86zM5.41 20L4 18.59l7.72-7.72 1.47 1.35L5.41 20z\"/>\n",
              "  </svg>\n",
              "      </button>\n",
              "      \n",
              "  <style>\n",
              "    .colab-df-container {\n",
              "      display:flex;\n",
              "      flex-wrap:wrap;\n",
              "      gap: 12px;\n",
              "    }\n",
              "\n",
              "    .colab-df-convert {\n",
              "      background-color: #E8F0FE;\n",
              "      border: none;\n",
              "      border-radius: 50%;\n",
              "      cursor: pointer;\n",
              "      display: none;\n",
              "      fill: #1967D2;\n",
              "      height: 32px;\n",
              "      padding: 0 0 0 0;\n",
              "      width: 32px;\n",
              "    }\n",
              "\n",
              "    .colab-df-convert:hover {\n",
              "      background-color: #E2EBFA;\n",
              "      box-shadow: 0px 1px 2px rgba(60, 64, 67, 0.3), 0px 1px 3px 1px rgba(60, 64, 67, 0.15);\n",
              "      fill: #174EA6;\n",
              "    }\n",
              "\n",
              "    [theme=dark] .colab-df-convert {\n",
              "      background-color: #3B4455;\n",
              "      fill: #D2E3FC;\n",
              "    }\n",
              "\n",
              "    [theme=dark] .colab-df-convert:hover {\n",
              "      background-color: #434B5C;\n",
              "      box-shadow: 0px 1px 3px 1px rgba(0, 0, 0, 0.15);\n",
              "      filter: drop-shadow(0px 1px 2px rgba(0, 0, 0, 0.3));\n",
              "      fill: #FFFFFF;\n",
              "    }\n",
              "  </style>\n",
              "\n",
              "      <script>\n",
              "        const buttonEl =\n",
              "          document.querySelector('#df-2137bfbc-0602-42b5-ac57-2236b25c1d77 button.colab-df-convert');\n",
              "        buttonEl.style.display =\n",
              "          google.colab.kernel.accessAllowed ? 'block' : 'none';\n",
              "\n",
              "        async function convertToInteractive(key) {\n",
              "          const element = document.querySelector('#df-2137bfbc-0602-42b5-ac57-2236b25c1d77');\n",
              "          const dataTable =\n",
              "            await google.colab.kernel.invokeFunction('convertToInteractive',\n",
              "                                                     [key], {});\n",
              "          if (!dataTable) return;\n",
              "\n",
              "          const docLinkHtml = 'Like what you see? Visit the ' +\n",
              "            '<a target=\"_blank\" href=https://colab.research.google.com/notebooks/data_table.ipynb>data table notebook</a>'\n",
              "            + ' to learn more about interactive tables.';\n",
              "          element.innerHTML = '';\n",
              "          dataTable['output_type'] = 'display_data';\n",
              "          await google.colab.output.renderOutput(dataTable, element);\n",
              "          const docLink = document.createElement('div');\n",
              "          docLink.innerHTML = docLinkHtml;\n",
              "          element.appendChild(docLink);\n",
              "        }\n",
              "      </script>\n",
              "    </div>\n",
              "  </div>\n",
              "  "
            ]
          },
          "metadata": {},
          "execution_count": 68
        }
      ]
    }
  ]
}
